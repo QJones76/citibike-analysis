{
 "cells": [
  {
   "cell_type": "code",
   "execution_count": 1,
   "metadata": {},
   "outputs": [],
   "source": [
    "# Import dependencies\n",
    "import os\n",
    "import numpy as np\n",
    "import pandas as pd"
   ]
  {
   "cell_type": "code",
   "execution_count": 2,
   "metadata": {},
   "outputs": [
    {
     "name": "stderr",
     "output_type": "stream",
     "text": [
      "C:\\Users\\qjone\\AppData\\Local\\Temp\\ipykernel_19404\\4076083420.py:1: DtypeWarning: Columns (5,7) have mixed types. Specify dtype option on import or set low_memory=False.\n",
      "  df_1 = pd.read_csv('Data/202301-citibike-tripdata_1.csv')\n",
      "C:\\Users\\qjone\\AppData\\Local\\Temp\\ipykernel_19404\\4076083420.py:2: DtypeWarning: Columns (5,7) have mixed types. Specify dtype option on import or set low_memory=False.\n",
      "  df_2 = pd.read_csv('Data/202301-citibike-tripdata_2.csv')\n"
     ]
    },
    {
     "name": "stdout",
     "output_type": "stream",
     "text": [
      "<class 'pandas.core.frame.DataFrame'>\n",
      "RangeIndex: 1000000 entries, 0 to 999999\n",
      "Data columns (total 13 columns):\n",
      " #   Column              Non-Null Count    Dtype  \n",
      "---  ------              --------------    -----  \n",
      " 0   ride_id             1000000 non-null  object \n",
      " 1   rideable_type       1000000 non-null  object \n",
      " 2   started_at          1000000 non-null  object \n",
      " 3   ended_at            1000000 non-null  object \n",
      " 4   start_station_name  999943 non-null   object \n",
      " 5   start_station_id    999943 non-null   object \n",
      " 6   end_station_name    995687 non-null   object \n",
      " 7   end_station_id      995687 non-null   object \n",
      " 8   start_lat           1000000 non-null  float64\n",
      " 9   start_lng           1000000 non-null  float64\n",
      " 10  end_lat             998779 non-null   float64\n",
      " 11  end_lng             998779 non-null   float64\n",
      " 12  member_casual       1000000 non-null  object \n",
      "dtypes: float64(4), object(9)\n",
      "memory usage: 99.2+ MB\n",
      "<class 'pandas.core.frame.DataFrame'>\n",
      "RangeIndex: 795412 entries, 0 to 795411\n",
      "Data columns (total 13 columns):\n",
      " #   Column              Non-Null Count   Dtype  \n",
      "---  ------              --------------   -----  \n",
      " 0   ride_id             795412 non-null  object \n",
      " 1   rideable_type       795412 non-null  object \n",
      " 2   started_at          795412 non-null  object \n",
      " 3   ended_at            795412 non-null  object \n",
      " 4   start_station_name  795412 non-null  object \n",
      " 5   start_station_id    795412 non-null  object \n",
      " 6   end_station_name    795412 non-null  object \n",
      " 7   end_station_id      795412 non-null  object \n",
      " 8   start_lat           795412 non-null  float64\n",
      " 9   start_lng           795412 non-null  float64\n",
      " 10  end_lat             795412 non-null  float64\n",
      " 11  end_lng             795412 non-null  float64\n",
      " 12  member_casual       795412 non-null  object \n",
      "dtypes: float64(4), object(9)\n",
      "memory usage: 78.9+ MB\n",
      "df_1 column information: \n",
      " None \n",
      " df_2 column information: \n",
      " None\n"
     ]
    }
   ],
   "source": [
    "df_1 = pd.read_csv('Data/202301-citibike-tripdata_1.csv')\n",
    "df_2 = pd.read_csv('Data/202301-citibike-tripdata_2.csv')\n",
    "\n",
    "print(f'df_1 column information: \\n {df_1.info()} \\n df_2 column information: \\n {df_2.info()}')"
   ]
  },
  {
   "cell_type": "code",
   "execution_count": 3,
   "metadata": {},
   "outputs": [
    {
     "name": "stdout",
     "output_type": "stream",
     "text": [
      "<class 'pandas.core.frame.DataFrame'>\n",
      "Index: 995687 entries, 0 to 999999\n",
      "Data columns (total 13 columns):\n",
      " #   Column              Non-Null Count   Dtype  \n",
      "---  ------              --------------   -----  \n",
      " 0   ride_id             995687 non-null  object \n",
      " 1   rideable_type       995687 non-null  object \n",
      " 2   started_at          995687 non-null  object \n",
      " 3   ended_at            995687 non-null  object \n",
      " 4   start_station_name  995687 non-null  object \n",
      " 5   start_station_id    995687 non-null  object \n",
      " 6   end_station_name    995687 non-null  object \n",
      " 7   end_station_id      995687 non-null  object \n",
      " 8   start_lat           995687 non-null  float64\n",
      " 9   start_lng           995687 non-null  float64\n",
      " 10  end_lat             995687 non-null  float64\n",
      " 11  end_lng             995687 non-null  float64\n",
      " 12  member_casual       995687 non-null  object \n",
      "dtypes: float64(4), object(9)\n",
      "memory usage: 106.4+ MB\n"
     ]
    }
   ],
   "source": [
    "df_1 = df_1.dropna()\n",
    "df_1.info()"
   ]
  },
  {
   "cell_type": "code",
   "execution_count": 4,
   "metadata": {},
   "outputs": [
    {
     "data": {
      "text/html": [
       "<div>\n",
       "<style scoped>\n",
       "    .dataframe tbody tr th:only-of-type {\n",
       "        vertical-align: middle;\n",
       "    }\n",
       "\n",
       "    .dataframe tbody tr th {\n",
       "        vertical-align: top;\n",
       "    }\n",
       "\n",
       "    .dataframe thead th {\n",
       "        text-align: right;\n",
       "    }\n",
       "</style>\n",
       "<table border=\"1\" class=\"dataframe\">\n",
       "  <thead>\n",
       "    <tr style=\"text-align: right;\">\n",
       "      <th></th>\n",
       "      <th>ride_id</th>\n",
       "      <th>rideable_type</th>\n",
       "      <th>started_at</th>\n",
       "      <th>ended_at</th>\n",
       "      <th>start_station_name</th>\n",
       "      <th>start_station_id</th>\n",
       "      <th>end_station_name</th>\n",
       "      <th>end_station_id</th>\n",
       "      <th>start_lat</th>\n",
       "      <th>start_lng</th>\n",
       "      <th>end_lat</th>\n",
       "      <th>end_lng</th>\n",
       "      <th>member_casual</th>\n",
       "    </tr>\n",
       "  </thead>\n",
       "  <tbody>\n",
       "    <tr>\n",
       "      <th>0</th>\n",
       "      <td>DC1CB984821DFFF7</td>\n",
       "      <td>classic_bike</td>\n",
       "      <td>2023-01-07 15:36:53.430</td>\n",
       "      <td>2023-01-07 15:39:45.406</td>\n",
       "      <td>Vesey St &amp; Church St</td>\n",
       "      <td>5216.06</td>\n",
       "      <td>Albany St &amp; Greenwich St</td>\n",
       "      <td>5145.02</td>\n",
       "      <td>40.712220</td>\n",
       "      <td>-74.010472</td>\n",
       "      <td>40.709267</td>\n",
       "      <td>-74.013247</td>\n",
       "      <td>member</td>\n",
       "    </tr>\n",
       "    <tr>\n",
       "      <th>1</th>\n",
       "      <td>C00CA02971557F16</td>\n",
       "      <td>classic_bike</td>\n",
       "      <td>2023-01-04 19:23:01.234</td>\n",
       "      <td>2023-01-04 19:34:57.151</td>\n",
       "      <td>Lispenard St &amp; Broadway</td>\n",
       "      <td>5391.06</td>\n",
       "      <td>St Marks Pl &amp; 1 Ave</td>\n",
       "      <td>5626.13</td>\n",
       "      <td>40.719392</td>\n",
       "      <td>-74.002472</td>\n",
       "      <td>40.727791</td>\n",
       "      <td>-73.985649</td>\n",
       "      <td>member</td>\n",
       "    </tr>\n",
       "    <tr>\n",
       "      <th>2</th>\n",
       "      <td>C753AE5EBD8458F9</td>\n",
       "      <td>classic_bike</td>\n",
       "      <td>2023-01-20 09:22:19.894</td>\n",
       "      <td>2023-01-20 10:23:24.255</td>\n",
       "      <td>3 Ave &amp; Schermerhorn St</td>\n",
       "      <td>4437.01</td>\n",
       "      <td>State St &amp; Smith St</td>\n",
       "      <td>4522.07</td>\n",
       "      <td>40.686832</td>\n",
       "      <td>-73.979677</td>\n",
       "      <td>40.689170</td>\n",
       "      <td>-73.988600</td>\n",
       "      <td>member</td>\n",
       "    </tr>\n",
       "    <tr>\n",
       "      <th>3</th>\n",
       "      <td>E4415A543C1972A7</td>\n",
       "      <td>classic_bike</td>\n",
       "      <td>2023-01-24 10:38:01.135</td>\n",
       "      <td>2023-01-24 10:41:40.749</td>\n",
       "      <td>E 5 St &amp; Ave A</td>\n",
       "      <td>5626.06</td>\n",
       "      <td>E 1 St &amp; 1 Ave</td>\n",
       "      <td>5593.01</td>\n",
       "      <td>40.724790</td>\n",
       "      <td>-73.984301</td>\n",
       "      <td>40.723356</td>\n",
       "      <td>-73.988650</td>\n",
       "      <td>member</td>\n",
       "    </tr>\n",
       "    <tr>\n",
       "      <th>4</th>\n",
       "      <td>BD52A87B215877C7</td>\n",
       "      <td>electric_bike</td>\n",
       "      <td>2023-01-13 10:17:38.192</td>\n",
       "      <td>2023-01-13 10:33:59.099</td>\n",
       "      <td>W 54 St &amp; 11 Ave</td>\n",
       "      <td>6955.05</td>\n",
       "      <td>Washington St &amp; Gansevoort St</td>\n",
       "      <td>6039.06</td>\n",
       "      <td>40.768292</td>\n",
       "      <td>-73.992563</td>\n",
       "      <td>40.739323</td>\n",
       "      <td>-74.008119</td>\n",
       "      <td>member</td>\n",
       "    </tr>\n",
       "  </tbody>\n",
       "</table>\n",
       "</div>"
      ],
      "text/plain": [
       "            ride_id  rideable_type               started_at  \\\n",
       "0  DC1CB984821DFFF7   classic_bike  2023-01-07 15:36:53.430   \n",
       "1  C00CA02971557F16   classic_bike  2023-01-04 19:23:01.234   \n",
       "2  C753AE5EBD8458F9   classic_bike  2023-01-20 09:22:19.894   \n",
       "3  E4415A543C1972A7   classic_bike  2023-01-24 10:38:01.135   \n",
       "4  BD52A87B215877C7  electric_bike  2023-01-13 10:17:38.192   \n",
       "\n",
       "                  ended_at       start_station_name start_station_id  \\\n",
       "0  2023-01-07 15:39:45.406     Vesey St & Church St          5216.06   \n",
       "1  2023-01-04 19:34:57.151  Lispenard St & Broadway          5391.06   \n",
       "2  2023-01-20 10:23:24.255  3 Ave & Schermerhorn St          4437.01   \n",
       "3  2023-01-24 10:41:40.749           E 5 St & Ave A          5626.06   \n",
       "4  2023-01-13 10:33:59.099         W 54 St & 11 Ave          6955.05   \n",
       "\n",
       "                end_station_name end_station_id  start_lat  start_lng  \\\n",
       "0       Albany St & Greenwich St        5145.02  40.712220 -74.010472   \n",
       "1            St Marks Pl & 1 Ave        5626.13  40.719392 -74.002472   \n",
       "2            State St & Smith St        4522.07  40.686832 -73.979677   \n",
       "3                 E 1 St & 1 Ave        5593.01  40.724790 -73.984301   \n",
       "4  Washington St & Gansevoort St        6039.06  40.768292 -73.992563   \n",
       "\n",
       "     end_lat    end_lng member_casual  \n",
       "0  40.709267 -74.013247        member  \n",
       "1  40.727791 -73.985649        member  \n",
       "2  40.689170 -73.988600        member  \n",
       "3  40.723356 -73.988650        member  \n",
       "4  40.739323 -74.008119        member  "
      ]
     },
     "execution_count": 4,
     "metadata": {},
     "output_type": "execute_result"
    }
   ],
   "source": [
    "# Combine the DataFrames together\n",
    "combined_df = pd.concat([df_1, df_2], axis=0, ignore_index=True)\n",
    "\n",
    "combined_df.head()"
   ]
  },
  {
   "cell_type": "code",
   "execution_count": 5,
   "metadata": {},
   "outputs": [
    {
     "name": "stdout",
     "output_type": "stream",
     "text": [
      "started_at    datetime64[ns]\n",
      "ended_at      datetime64[ns]\n",
      "dtype: object\n"
     ]
    }
   ],
   "source": [
    "# Convert 'started_at' and 'ended_at' to datetime format\n",
    "combined_df[['started_at', 'ended_at']] = combined_df[['started_at', 'ended_at']].apply(pd.to_datetime)\n",
    "\n",
    "# Check the conversion\n",
    "print(combined_df[['started_at', 'ended_at']].dtypes)"
   ]
  },
  {
   "cell_type": "code",
   "execution_count": 7,
   "metadata": {},
   "outputs": [],
   "source": [
    "# Export the dataframe to an Excel file for importing into Tableau\n",
    "combined_df.to_csv('Jan-2023-citibike-tripdata.csv', index=False)"
   ]
  },
  {
   "cell_type": "code",
   "execution_count": null,
   "metadata": {},
   "outputs": [],
   "source": []
  }
 ],
 "metadata": {
  "kernelspec": {
   "display_name": "dev",
   "language": "python",
   "name": "python3"
  },
  "language_info": {
   "codemirror_mode": {
    "name": "ipython",
    "version": 3
   },
   "file_extension": ".py",
   "mimetype": "text/x-python",
   "name": "python",
   "nbconvert_exporter": "python",
   "pygments_lexer": "ipython3",
   "version": "3.10.15"
  }
 },
 "nbformat": 4,
 "nbformat_minor": 2
}
